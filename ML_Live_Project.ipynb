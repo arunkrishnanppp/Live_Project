{
  "nbformat": 4,
  "nbformat_minor": 0,
  "metadata": {
    "colab": {
      "name": "ML_Live_Project_IrDataset.ipynb",
      "provenance": []
    },
    "kernelspec": {
      "name": "python3",
      "display_name": "Python 3"
    }
  },
  "cells": [
    {
      "cell_type": "markdown",
      "metadata": {
        "id": "kDJCh4jjrfyP"
      },
      "source": [
        "**Using Linear Regression We are trying to predict When the lock down ends Using the Dataset**\n",
        "\n",
        "\n",
        "Libraries  Used\n",
        "\n",
        "\n",
        "1.   pandas\n",
        "2.   numpy\n",
        "\n",
        "\n",
        "1.   sklearn\n",
        "2.   matplotlib\n",
        "\n",
        "\n",
        "\n"
      ]
    },
    {
      "cell_type": "code",
      "metadata": {
        "id": "_l-0cWXGrCWt"
      },
      "source": [
        "import pandas as pd\n",
        "import matplotlib.pyplot as plt\n",
        "from sklearn.linear_model import LinearRegression\n",
        "from sklearn.model_selection import train_test_split\n",
        "from sklearn.metrics import r2_score"
      ],
      "execution_count": 30,
      "outputs": []
    },
    {
      "cell_type": "code",
      "metadata": {
        "id": "XfhRIaWHsju_",
        "outputId": "25ee61ad-5471-4f8f-cf74-111e1297947c",
        "colab": {
          "base_uri": "https://localhost:8080/",
          "height": 202
        }
      },
      "source": [
        "# Importing the data set using pandas\n",
        "df=pd.read_csv('dataset.csv')\n",
        "# df.head is used for printing the first 5 rows of the dataset\n",
        "df.head()"
      ],
      "execution_count": 10,
      "outputs": [
        {
          "output_type": "execute_result",
          "data": {
            "text/html": [
              "<div>\n",
              "<style scoped>\n",
              "    .dataframe tbody tr th:only-of-type {\n",
              "        vertical-align: middle;\n",
              "    }\n",
              "\n",
              "    .dataframe tbody tr th {\n",
              "        vertical-align: top;\n",
              "    }\n",
              "\n",
              "    .dataframe thead th {\n",
              "        text-align: right;\n",
              "    }\n",
              "</style>\n",
              "<table border=\"1\" class=\"dataframe\">\n",
              "  <thead>\n",
              "    <tr style=\"text-align: right;\">\n",
              "      <th></th>\n",
              "      <th>cases</th>\n",
              "      <th>increasingrate</th>\n",
              "      <th>decreasingrate</th>\n",
              "      <th>time</th>\n",
              "    </tr>\n",
              "  </thead>\n",
              "  <tbody>\n",
              "    <tr>\n",
              "      <th>0</th>\n",
              "      <td>18</td>\n",
              "      <td>15.960</td>\n",
              "      <td>53.13</td>\n",
              "      <td>1121.8739</td>\n",
              "    </tr>\n",
              "    <tr>\n",
              "      <th>1</th>\n",
              "      <td>21</td>\n",
              "      <td>16.815</td>\n",
              "      <td>52.58</td>\n",
              "      <td>1131.5066</td>\n",
              "    </tr>\n",
              "    <tr>\n",
              "      <th>2</th>\n",
              "      <td>38</td>\n",
              "      <td>16.815</td>\n",
              "      <td>50.38</td>\n",
              "      <td>1135.9407</td>\n",
              "    </tr>\n",
              "    <tr>\n",
              "      <th>3</th>\n",
              "      <td>26</td>\n",
              "      <td>17.195</td>\n",
              "      <td>49.06</td>\n",
              "      <td>1136.3994</td>\n",
              "    </tr>\n",
              "    <tr>\n",
              "      <th>4</th>\n",
              "      <td>18</td>\n",
              "      <td>17.290</td>\n",
              "      <td>48.07</td>\n",
              "      <td>1137.0110</td>\n",
              "    </tr>\n",
              "  </tbody>\n",
              "</table>\n",
              "</div>"
            ],
            "text/plain": [
              "   cases  increasingrate  decreasingrate       time\n",
              "0     18          15.960           53.13  1121.8739\n",
              "1     21          16.815           52.58  1131.5066\n",
              "2     38          16.815           50.38  1135.9407\n",
              "3     26          17.195           49.06  1136.3994\n",
              "4     18          17.290           48.07  1137.0110"
            ]
          },
          "metadata": {
            "tags": []
          },
          "execution_count": 10
        }
      ]
    },
    {
      "cell_type": "markdown",
      "metadata": {
        "id": "obJUv7EGte5s"
      },
      "source": [
        "In this dataset the time is dependand varibale and [cases,increasingrate,decreasingrate] are independand variables\n",
        "cases,increasingrate,decreasingrate this can be considered as features for predicting the time"
      ]
    },
    {
      "cell_type": "code",
      "metadata": {
        "id": "-4_jrkJ7tYPf",
        "outputId": "fe7beabf-e6e3-406a-cf21-13c4f0c08f2b",
        "colab": {
          "base_uri": "https://localhost:8080/",
          "height": 468
        }
      },
      "source": [
        "# x is the independand feature\n",
        "X=df.iloc[:,:3]\n",
        "print(X)\n",
        "Y=df.iloc[:,-1]\n",
        "print(Y)"
      ],
      "execution_count": 19,
      "outputs": [
        {
          "output_type": "stream",
          "text": [
            "      cases  increasingrate  decreasingrate\n",
            "0        18          15.960           53.13\n",
            "1        21          16.815           52.58\n",
            "2        38          16.815           50.38\n",
            "3        26          17.195           49.06\n",
            "4        18          17.290           48.07\n",
            "...     ...             ...             ...\n",
            "1333     46          48.070            2.30\n",
            "1334     58          49.060            1.70\n",
            "1335     23          50.380            1.43\n",
            "1336     22          52.580            1.30\n",
            "1337     18          53.130            0.90\n",
            "\n",
            "[1338 rows x 3 columns]\n",
            "0        1121.87390\n",
            "1        1131.50660\n",
            "2        1135.94070\n",
            "3        1136.39940\n",
            "4        1137.01100\n",
            "           ...     \n",
            "1333    55135.40209\n",
            "1334    58571.07448\n",
            "1335    60021.39897\n",
            "1336    62592.87309\n",
            "1337    63770.42801\n",
            "Name: time, Length: 1338, dtype: float64\n"
          ],
          "name": "stdout"
        }
      ]
    },
    {
      "cell_type": "code",
      "metadata": {
        "id": "FzuVzBdhui7-"
      },
      "source": [
        "# Method ModelCreation() will be used for creating and training the LinearRegression Model\n",
        "def ModelCreation(x,y):\n",
        "  model=LinearRegression()\n",
        "  model.fit(x,y)\n",
        "  return model"
      ],
      "execution_count": 20,
      "outputs": []
    },
    {
      "cell_type": "code",
      "metadata": {
        "id": "6HpCNtbkvGel"
      },
      "source": [
        "# Spliting the data set into training and testing set for avoiding overfitting\n",
        "X_train,X_test,Y_train,Y_test=train_test_split(X,Y,test_size=.2,random_state=1)"
      ],
      "execution_count": 25,
      "outputs": []
    },
    {
      "cell_type": "code",
      "metadata": {
        "id": "_QG77vi5u4ym"
      },
      "source": [
        "# caling the Fucntion to get the trained model\n",
        "reg=ModelCreation(X_train,Y_train)\n"
      ],
      "execution_count": 26,
      "outputs": []
    },
    {
      "cell_type": "code",
      "metadata": {
        "id": "brrhMkOAwzuX",
        "outputId": "db3ff5e7-7ebd-4c90-dbe5-5f42501085c6",
        "colab": {
          "base_uri": "https://localhost:8080/",
          "height": 35
        }
      },
      "source": [
        "#Calculating efficiency. It internally calculates y_pred again and gives the \n",
        "#efficiency\n",
        "reg.score(X_test,Y_test)"
      ],
      "execution_count": 34,
      "outputs": [
        {
          "output_type": "execute_result",
          "data": {
            "text/plain": [
              "0.8525958099134485"
            ]
          },
          "metadata": {
            "tags": []
          },
          "execution_count": 34
        }
      ]
    },
    {
      "cell_type": "markdown",
      "metadata": {
        "id": "3pPkwwaNvjdW"
      },
      "source": [
        "**Predicting On the Testing set**"
      ]
    },
    {
      "cell_type": "code",
      "metadata": {
        "id": "KbjV48qKvirn"
      },
      "source": [
        "y_pred=reg.predict(X_test)"
      ],
      "execution_count": 28,
      "outputs": []
    },
    {
      "cell_type": "markdown",
      "metadata": {
        "id": "LkogP-_xv0dY"
      },
      "source": [
        "**Printing The accuracy of prediction in testing set**"
      ]
    },
    {
      "cell_type": "code",
      "metadata": {
        "id": "CxkOeIYIv4hx",
        "outputId": "882a22b7-13f4-4675-f567-e5afdabe1833",
        "colab": {
          "base_uri": "https://localhost:8080/",
          "height": 35
        }
      },
      "source": [
        "# Printing the accuracy of regression model in r2_score\n",
        "r2_score(Y_test,y_pred)"
      ],
      "execution_count": 31,
      "outputs": [
        {
          "output_type": "execute_result",
          "data": {
            "text/plain": [
              "0.8525958099134485"
            ]
          },
          "metadata": {
            "tags": []
          },
          "execution_count": 31
        }
      ]
    },
    {
      "cell_type": "code",
      "metadata": {
        "id": "1z-O-0a8xWHr",
        "outputId": "f6c8bda6-eccf-422a-844e-212bac1bcf72",
        "colab": {
          "base_uri": "https://localhost:8080/",
          "height": 279
        }
      },
      "source": [
        "#Plotting graph using matplotlib.\n",
        "plt.plot(X,reg.predict(X),'*')\n",
        "plt.legend(labels=['cases','increasingrate','decreasingrate'])\n",
        "plt.xlabel(\"Cases Rate\")\n",
        "plt.ylabel(\"Time\")\n",
        "plt.show()"
      ],
      "execution_count": 35,
      "outputs": [
        {
          "output_type": "display_data",
          "data": {
            "image/png": "[encoded data removed]",
            "text/plain": [
              "<Figure size 432x288 with 1 Axes>"
            ]
          },
          "metadata": {
            "tags": [],
            "needs_background": "light"
          }
        }
      ]
    }
  ]
}